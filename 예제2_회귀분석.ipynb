{
 "cells": [
  {
   "cell_type": "code",
   "execution_count": 1,
   "metadata": {},
   "outputs": [
    {
     "name": "stdout",
     "output_type": "stream",
     "text": [
      "기울기: 6.91\n",
      "절편: 16.97\n"
     ]
    }
   ],
   "source": [
    "import numpy as np\n",
    "\n",
    "# 주어진 데이터\n",
    "x = np.array([3, 4, 5, 6, 7, 8])\n",
    "y = np.array([35, 50, 45, 64, 66, 70])\n",
    "\n",
    "# 상관계수 계산\n",
    "correlation_coefficient = np.corrcoef(x, y)[0, 1]\n",
    "\n",
    "기울기 = correlation_coefficient * (np.std(y)/np.std(x))\n",
    "절편 = np.mean(y) - 기울기 * np.mean(x)\n",
    "print(\"기울기:\", 기울기.round(2))\n",
    "print(\"절편:\", 절편.round(2))"
   ]
  }
 ],
 "metadata": {
  "kernelspec": {
   "display_name": "Python 3",
   "language": "python",
   "name": "python3"
  },
  "language_info": {
   "codemirror_mode": {
    "name": "ipython",
    "version": 3
   },
   "file_extension": ".py",
   "mimetype": "text/x-python",
   "name": "python",
   "nbconvert_exporter": "python",
   "pygments_lexer": "ipython3",
   "version": "3.11.2"
  }
 },
 "nbformat": 4,
 "nbformat_minor": 2
}
