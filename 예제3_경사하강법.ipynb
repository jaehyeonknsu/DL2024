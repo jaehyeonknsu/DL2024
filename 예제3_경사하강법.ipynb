{
 "cells": [
  {
   "cell_type": "code",
   "execution_count": null,
   "metadata": {},
   "outputs": [],
   "source": [
    "import numpy as np\n",
    "import pandas as pd\n",
    "import matplotlib.pyplot as plt\n",
    "\n",
    "#훈련시간 x와 경기력 y의 리스트\n",
    "data = [[3,35], [4,50], [5,45], [6,64], [7,66], [8,70]]\n",
    "x=[i[0] for i in data]\n",
    "y=[i[1] for i in data]\n",
    "print(x,y)"
   ]
  },
  {
   "cell_type": "code",
   "execution_count": null,
   "metadata": {},
   "outputs": [],
   "source": [
    "plt.figure(figsize=(8,5))\n",
    "plt.scatter(x,y)\n",
    "plt.show()"
   ]
  },
  {
   "cell_type": "code",
   "execution_count": null,
   "metadata": {},
   "outputs": [],
   "source": [
    "#리스트로 되어 있는 x와 y를 넘파이 배열로 변경\n",
    "x_data=np.array(x)\n",
    "y_data=np.array(y)\n",
    "print(x_data, y_data)\n",
    "\n",
    "#기울기와 절편 초기화\n",
    "a=0\n",
    "b=0\n",
    "\n",
    "#학습률 및 반복\n",
    "lr=0.01\n",
    "epochs=10000\n",
    "\n",
    "#경사하강법 시작\n",
    "for i in range(epochs):\n",
    "    y_pred=a*x_data+b\n",
    "    error=y_data-y_pred\n",
    "    \n",
    "    #오차함수를 기울기로 미분\n",
    "    a_diff = -(2/len(x_data)) * sum(x_data * (error))\n",
    "    #오차함수를 절편으로 미분\n",
    "    b_diff = -(2/len(x_data)) * sum(error)\n",
    "    \n",
    "    a = a - lr * a_diff #학습률 곱을 a에 업데이트\n",
    "    b = b - lr * b_diff #학습률 곱을 b에 업데이트\n",
    "    \n",
    "    if i % 100 == 0:\n",
    "        print(\"epoch=%.f, 기울기=%.04f, 절편=%.04f\" % (i, a, b))"
   ]
  },
  {
   "cell_type": "code",
   "execution_count": null,
   "metadata": {},
   "outputs": [],
   "source": [
    "#그래프 다시 그리기\n",
    "y_pred = a * x_data + b\n",
    "plt.scatter(x, y)\n",
    "plt.plot([min(x_data), max(x_data)],[min(y_pred), max(y_pred)])\n",
    "plt.show()"
   ]
  },
  {
   "cell_type": "code",
   "execution_count": null,
   "metadata": {},
   "outputs": [],
   "source": []
  }
 ],
 "metadata": {
  "kernelspec": {
   "display_name": "Python 3",
   "language": "python",
   "name": "python3"
  },
  "language_info": {
   "codemirror_mode": {
    "name": "ipython",
    "version": 3
   },
   "file_extension": ".py",
   "mimetype": "text/x-python",
   "name": "python",
   "nbconvert_exporter": "python",
   "pygments_lexer": "ipython3",
   "version": "3.11.2"
  }
 },
 "nbformat": 4,
 "nbformat_minor": 4
}
