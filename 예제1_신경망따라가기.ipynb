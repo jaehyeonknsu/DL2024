{
 "cells": [
  {
   "cell_type": "code",
   "execution_count": 2,
   "metadata": {},
   "outputs": [
    {
     "name": "stdout",
     "output_type": "stream",
     "text": [
      "입력-은닉: [1.16 0.42 0.62]\n",
      "입력-은닉_활성함수: [0.76133271 0.60348325 0.65021855]\n",
      "출력값: [0.97594736 0.88858496 1.25461119]\n",
      "출력값_활성함수: [0.72630335 0.70859807 0.77809706]\n"
     ]
    }
   ],
   "source": [
    "import numpy as np\n",
    "\n",
    "# 입력값\n",
    "input_layer = np.array([0.9, 0.1, 0.8])\n",
    "\n",
    "# 가중치\n",
    "hidden_weights = np.array([\n",
    "    [0.9, 0.2, 0.1],\n",
    "    [0.3, 0.8, 0.5],\n",
    "    [0.4, 0.2, 0.6]\n",
    "])\n",
    "\n",
    "output_weights = np.array([\n",
    "    [0.3, 0.6, 0.8],\n",
    "    [0.7, 0.5, 0.1],\n",
    "    [0.5, 0.2, 0.9]\n",
    "])\n",
    "\n",
    "# 은닉 계층의 출력 계산\n",
    "hidden_layer_output = np.dot(input_layer, hidden_weights)\n",
    "\n",
    "# 시그모이드 활성화 함수를 적용\n",
    "hidden_layer_output1 = 1 / (1 + np.exp(-hidden_layer_output))\n",
    "\n",
    "# 출력 계층의 출력 계산\n",
    "output_layer_output = np.dot(hidden_layer_output1, output_weights)\n",
    "\n",
    "# 시그모이드 활성화 함수를 적용\n",
    "output_layer_output1 = 1 / (1 + np.exp(-output_layer_output))\n",
    "\n",
    "print(\"입력-은닉:\", hidden_layer_output)\n",
    "print(\"입력-은닉_활성함수:\", hidden_layer_output1)\n",
    "\n",
    "print(\"출력값:\", output_layer_output)\n",
    "print(\"출력값_활성함수:\", output_layer_output1)"
   ]
  }
 ],
 "metadata": {
  "kernelspec": {
   "display_name": "Python 3",
   "language": "python",
   "name": "python3"
  },
  "language_info": {
   "codemirror_mode": {
    "name": "ipython",
    "version": 3
   },
   "file_extension": ".py",
   "mimetype": "text/x-python",
   "name": "python",
   "nbconvert_exporter": "python",
   "pygments_lexer": "ipython3",
   "version": "3.11.2"
  }
 },
 "nbformat": 4,
 "nbformat_minor": 2
}
